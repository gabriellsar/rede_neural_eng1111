{
 "cells": [
  {
   "cell_type": "code",
   "execution_count": 1,
   "id": "53714e47",
   "metadata": {},
   "outputs": [],
   "source": [
    "import pandas as pd\n",
    "import numpy as np\n",
    "import warnings\n",
    "warnings.filterwarnings(\"ignore\")\n",
    "\n",
    "df = pd.read_csv(\"heart.csv\")"
   ]
  },
  {
   "cell_type": "code",
   "execution_count": 2,
   "id": "58cb1746",
   "metadata": {},
   "outputs": [
    {
     "data": {
      "text/html": [
       "<div>\n",
       "<style scoped>\n",
       "    .dataframe tbody tr th:only-of-type {\n",
       "        vertical-align: middle;\n",
       "    }\n",
       "\n",
       "    .dataframe tbody tr th {\n",
       "        vertical-align: top;\n",
       "    }\n",
       "\n",
       "    .dataframe thead th {\n",
       "        text-align: right;\n",
       "    }\n",
       "</style>\n",
       "<table border=\"1\" class=\"dataframe\">\n",
       "  <thead>\n",
       "    <tr style=\"text-align: right;\">\n",
       "      <th></th>\n",
       "      <th>age</th>\n",
       "      <th>sex</th>\n",
       "      <th>cp</th>\n",
       "      <th>trtbps</th>\n",
       "      <th>chol</th>\n",
       "      <th>fbs</th>\n",
       "      <th>restecg</th>\n",
       "      <th>thalachh</th>\n",
       "      <th>exng</th>\n",
       "      <th>oldpeak</th>\n",
       "      <th>slp</th>\n",
       "      <th>caa</th>\n",
       "      <th>thall</th>\n",
       "      <th>target</th>\n",
       "    </tr>\n",
       "  </thead>\n",
       "  <tbody>\n",
       "    <tr>\n",
       "      <th>0</th>\n",
       "      <td>63</td>\n",
       "      <td>1</td>\n",
       "      <td>3</td>\n",
       "      <td>145</td>\n",
       "      <td>233</td>\n",
       "      <td>1</td>\n",
       "      <td>0</td>\n",
       "      <td>150</td>\n",
       "      <td>0</td>\n",
       "      <td>2.3</td>\n",
       "      <td>0</td>\n",
       "      <td>0</td>\n",
       "      <td>1</td>\n",
       "      <td>1</td>\n",
       "    </tr>\n",
       "    <tr>\n",
       "      <th>1</th>\n",
       "      <td>37</td>\n",
       "      <td>1</td>\n",
       "      <td>2</td>\n",
       "      <td>130</td>\n",
       "      <td>250</td>\n",
       "      <td>0</td>\n",
       "      <td>1</td>\n",
       "      <td>187</td>\n",
       "      <td>0</td>\n",
       "      <td>3.5</td>\n",
       "      <td>0</td>\n",
       "      <td>0</td>\n",
       "      <td>2</td>\n",
       "      <td>1</td>\n",
       "    </tr>\n",
       "    <tr>\n",
       "      <th>2</th>\n",
       "      <td>41</td>\n",
       "      <td>0</td>\n",
       "      <td>1</td>\n",
       "      <td>130</td>\n",
       "      <td>204</td>\n",
       "      <td>0</td>\n",
       "      <td>0</td>\n",
       "      <td>172</td>\n",
       "      <td>0</td>\n",
       "      <td>1.4</td>\n",
       "      <td>2</td>\n",
       "      <td>0</td>\n",
       "      <td>2</td>\n",
       "      <td>1</td>\n",
       "    </tr>\n",
       "    <tr>\n",
       "      <th>3</th>\n",
       "      <td>56</td>\n",
       "      <td>1</td>\n",
       "      <td>1</td>\n",
       "      <td>120</td>\n",
       "      <td>236</td>\n",
       "      <td>0</td>\n",
       "      <td>1</td>\n",
       "      <td>178</td>\n",
       "      <td>0</td>\n",
       "      <td>0.8</td>\n",
       "      <td>2</td>\n",
       "      <td>0</td>\n",
       "      <td>2</td>\n",
       "      <td>1</td>\n",
       "    </tr>\n",
       "    <tr>\n",
       "      <th>4</th>\n",
       "      <td>57</td>\n",
       "      <td>0</td>\n",
       "      <td>0</td>\n",
       "      <td>120</td>\n",
       "      <td>354</td>\n",
       "      <td>0</td>\n",
       "      <td>1</td>\n",
       "      <td>163</td>\n",
       "      <td>1</td>\n",
       "      <td>0.6</td>\n",
       "      <td>2</td>\n",
       "      <td>0</td>\n",
       "      <td>2</td>\n",
       "      <td>1</td>\n",
       "    </tr>\n",
       "  </tbody>\n",
       "</table>\n",
       "</div>"
      ],
      "text/plain": [
       "   age  sex  cp  trtbps  chol  fbs  restecg  thalachh  exng  oldpeak  slp  \\\n",
       "0   63    1   3     145   233    1        0       150     0      2.3    0   \n",
       "1   37    1   2     130   250    0        1       187     0      3.5    0   \n",
       "2   41    0   1     130   204    0        0       172     0      1.4    2   \n",
       "3   56    1   1     120   236    0        1       178     0      0.8    2   \n",
       "4   57    0   0     120   354    0        1       163     1      0.6    2   \n",
       "\n",
       "   caa  thall  target  \n",
       "0    0      1       1  \n",
       "1    0      2       1  \n",
       "2    0      2       1  \n",
       "3    0      2       1  \n",
       "4    0      2       1  "
      ]
     },
     "execution_count": 2,
     "metadata": {},
     "output_type": "execute_result"
    }
   ],
   "source": [
    "df = df.rename({\"output\": \"target\"}, axis = 1)\n",
    "df.head()"
   ]
  },
  {
   "cell_type": "code",
   "execution_count": 3,
   "id": "f3ad9527",
   "metadata": {},
   "outputs": [
    {
     "data": {
      "text/plain": [
       "age          41\n",
       "sex           2\n",
       "cp            4\n",
       "trtbps       49\n",
       "chol        152\n",
       "fbs           2\n",
       "restecg       3\n",
       "thalachh     91\n",
       "exng          2\n",
       "oldpeak      40\n",
       "slp           3\n",
       "caa           5\n",
       "thall         4\n",
       "target        2\n",
       "dtype: int64"
      ]
     },
     "execution_count": 3,
     "metadata": {},
     "output_type": "execute_result"
    }
   ],
   "source": [
    "df.nunique()"
   ]
  },
  {
   "cell_type": "code",
   "execution_count": 4,
   "id": "45fb390a",
   "metadata": {},
   "outputs": [
    {
     "name": "stdout",
     "output_type": "stream",
     "text": [
      "<class 'pandas.core.frame.DataFrame'>\n",
      "RangeIndex: 303 entries, 0 to 302\n",
      "Data columns (total 14 columns):\n",
      " #   Column    Non-Null Count  Dtype  \n",
      "---  ------    --------------  -----  \n",
      " 0   age       303 non-null    int64  \n",
      " 1   sex       303 non-null    int64  \n",
      " 2   cp        303 non-null    int64  \n",
      " 3   trtbps    303 non-null    int64  \n",
      " 4   chol      303 non-null    int64  \n",
      " 5   fbs       303 non-null    int64  \n",
      " 6   restecg   303 non-null    int64  \n",
      " 7   thalachh  303 non-null    int64  \n",
      " 8   exng      303 non-null    int64  \n",
      " 9   oldpeak   303 non-null    float64\n",
      " 10  slp       303 non-null    int64  \n",
      " 11  caa       303 non-null    int64  \n",
      " 12  thall     303 non-null    int64  \n",
      " 13  target    303 non-null    int64  \n",
      "dtypes: float64(1), int64(13)\n",
      "memory usage: 33.3 KB\n"
     ]
    }
   ],
   "source": [
    "df.info()"
   ]
  },
  {
   "cell_type": "code",
   "execution_count": 5,
   "id": "2fe36399",
   "metadata": {},
   "outputs": [],
   "source": [
    "from sklearn.preprocessing import RobustScaler, MinMaxScaler, StandardScaler, LabelEncoder\n",
    "\n",
    "#divisao treino e teste\n",
    "from sklearn.model_selection import train_test_split\n",
    "\n",
    "#modelos\n",
    "from sklearn.svm import SVC\n",
    "from sklearn.linear_model import LogisticRegression\n",
    "from sklearn.ensemble import RandomForestClassifier\n",
    "from sklearn.tree import DecisionTreeClassifier\n",
    "from sklearn.ensemble import GradientBoostingClassifier\n",
    "from sklearn.neural_network import MLPClassifier\n",
    "from sklearn.naive_bayes import GaussianNB\n",
    "\n",
    "\n",
    "#metricas\n",
    "from sklearn.metrics import accuracy_score\n",
    "\n",
    "#validacao\n",
    "from sklearn.model_selection import GridSearchCV\n"
   ]
  },
  {
   "cell_type": "code",
   "execution_count": 6,
   "id": "5d8f45d7",
   "metadata": {},
   "outputs": [],
   "source": [
    "def onehot_encode(df, column_dict):\n",
    "    df = df.copy()\n",
    "    for column, prefix in column_dict.items():\n",
    "        dummies = pd.get_dummies(df[column], prefix=prefix)\n",
    "        df = pd.concat([df, dummies], axis=1)\n",
    "        df = df.drop(column, axis=1)\n",
    "    return df"
   ]
  },
  {
   "cell_type": "code",
   "execution_count": 7,
   "id": "4d92401b",
   "metadata": {},
   "outputs": [],
   "source": [
    "def preprocess_inputs(df, scaler):\n",
    "    df = df.copy()\n",
    "    \n",
    "    nominal_features = ['cp']\n",
    "    df = onehot_encode(df, dict(zip(nominal_features, ['CP'])))\n",
    "    \n",
    "    y = df['target'].copy()\n",
    "    X = df.drop(['thall','slp','oldpeak','target'], axis=1).copy()\n",
    "        \n",
    "    return X, y"
   ]
  },
  {
   "cell_type": "markdown",
   "id": "8bf44ada",
   "metadata": {},
   "source": [
    "## Preprocessing"
   ]
  },
  {
   "cell_type": "code",
   "execution_count": 8,
   "id": "bc7238ce",
   "metadata": {},
   "outputs": [],
   "source": [
    "scaler = RobustScaler()\n",
    "X,y = preprocess_inputs(df,scaler)"
   ]
  },
  {
   "cell_type": "code",
   "execution_count": 9,
   "id": "1cda816b",
   "metadata": {},
   "outputs": [
    {
     "data": {
      "text/html": [
       "<div>\n",
       "<style scoped>\n",
       "    .dataframe tbody tr th:only-of-type {\n",
       "        vertical-align: middle;\n",
       "    }\n",
       "\n",
       "    .dataframe tbody tr th {\n",
       "        vertical-align: top;\n",
       "    }\n",
       "\n",
       "    .dataframe thead th {\n",
       "        text-align: right;\n",
       "    }\n",
       "</style>\n",
       "<table border=\"1\" class=\"dataframe\">\n",
       "  <thead>\n",
       "    <tr style=\"text-align: right;\">\n",
       "      <th></th>\n",
       "      <th>age</th>\n",
       "      <th>sex</th>\n",
       "      <th>trtbps</th>\n",
       "      <th>chol</th>\n",
       "      <th>fbs</th>\n",
       "      <th>restecg</th>\n",
       "      <th>thalachh</th>\n",
       "      <th>exng</th>\n",
       "      <th>caa</th>\n",
       "      <th>CP_0</th>\n",
       "      <th>CP_1</th>\n",
       "      <th>CP_2</th>\n",
       "      <th>CP_3</th>\n",
       "    </tr>\n",
       "  </thead>\n",
       "  <tbody>\n",
       "    <tr>\n",
       "      <th>0</th>\n",
       "      <td>63</td>\n",
       "      <td>1</td>\n",
       "      <td>145</td>\n",
       "      <td>233</td>\n",
       "      <td>1</td>\n",
       "      <td>0</td>\n",
       "      <td>150</td>\n",
       "      <td>0</td>\n",
       "      <td>0</td>\n",
       "      <td>0</td>\n",
       "      <td>0</td>\n",
       "      <td>0</td>\n",
       "      <td>1</td>\n",
       "    </tr>\n",
       "    <tr>\n",
       "      <th>1</th>\n",
       "      <td>37</td>\n",
       "      <td>1</td>\n",
       "      <td>130</td>\n",
       "      <td>250</td>\n",
       "      <td>0</td>\n",
       "      <td>1</td>\n",
       "      <td>187</td>\n",
       "      <td>0</td>\n",
       "      <td>0</td>\n",
       "      <td>0</td>\n",
       "      <td>0</td>\n",
       "      <td>1</td>\n",
       "      <td>0</td>\n",
       "    </tr>\n",
       "    <tr>\n",
       "      <th>2</th>\n",
       "      <td>41</td>\n",
       "      <td>0</td>\n",
       "      <td>130</td>\n",
       "      <td>204</td>\n",
       "      <td>0</td>\n",
       "      <td>0</td>\n",
       "      <td>172</td>\n",
       "      <td>0</td>\n",
       "      <td>0</td>\n",
       "      <td>0</td>\n",
       "      <td>1</td>\n",
       "      <td>0</td>\n",
       "      <td>0</td>\n",
       "    </tr>\n",
       "    <tr>\n",
       "      <th>3</th>\n",
       "      <td>56</td>\n",
       "      <td>1</td>\n",
       "      <td>120</td>\n",
       "      <td>236</td>\n",
       "      <td>0</td>\n",
       "      <td>1</td>\n",
       "      <td>178</td>\n",
       "      <td>0</td>\n",
       "      <td>0</td>\n",
       "      <td>0</td>\n",
       "      <td>1</td>\n",
       "      <td>0</td>\n",
       "      <td>0</td>\n",
       "    </tr>\n",
       "    <tr>\n",
       "      <th>4</th>\n",
       "      <td>57</td>\n",
       "      <td>0</td>\n",
       "      <td>120</td>\n",
       "      <td>354</td>\n",
       "      <td>0</td>\n",
       "      <td>1</td>\n",
       "      <td>163</td>\n",
       "      <td>1</td>\n",
       "      <td>0</td>\n",
       "      <td>1</td>\n",
       "      <td>0</td>\n",
       "      <td>0</td>\n",
       "      <td>0</td>\n",
       "    </tr>\n",
       "  </tbody>\n",
       "</table>\n",
       "</div>"
      ],
      "text/plain": [
       "   age  sex  trtbps  chol  fbs  restecg  thalachh  exng  caa  CP_0  CP_1  \\\n",
       "0   63    1     145   233    1        0       150     0    0     0     0   \n",
       "1   37    1     130   250    0        1       187     0    0     0     0   \n",
       "2   41    0     130   204    0        0       172     0    0     0     1   \n",
       "3   56    1     120   236    0        1       178     0    0     0     1   \n",
       "4   57    0     120   354    0        1       163     1    0     1     0   \n",
       "\n",
       "   CP_2  CP_3  \n",
       "0     0     1  \n",
       "1     1     0  \n",
       "2     0     0  \n",
       "3     0     0  \n",
       "4     0     0  "
      ]
     },
     "execution_count": 9,
     "metadata": {},
     "output_type": "execute_result"
    }
   ],
   "source": [
    "X.head()"
   ]
  },
  {
   "cell_type": "code",
   "execution_count": 10,
   "id": "d88e8314",
   "metadata": {},
   "outputs": [
    {
     "name": "stdout",
     "output_type": "stream",
     "text": [
      "Shape X_train (242, 13)\n",
      "Shape X_test (61, 13)\n",
      "Shape y_train (242,)\n",
      "Shape y_test (61,)\n"
     ]
    }
   ],
   "source": [
    "X_train, X_test, y_train, y_test = train_test_split(X,y, test_size = 0.2, random_state = 0)\n",
    "print(\"Shape X_train\", X_train.shape)\n",
    "print(\"Shape X_test\",X_test.shape)\n",
    "print(\"Shape y_train\",y_train.shape)\n",
    "print(\"Shape y_test\",y_test.shape)"
   ]
  },
  {
   "cell_type": "markdown",
   "id": "84736afc",
   "metadata": {},
   "source": [
    "## Buscando o Melhor Modelo"
   ]
  },
  {
   "cell_type": "code",
   "execution_count": 11,
   "id": "e545d4db",
   "metadata": {},
   "outputs": [
    {
     "name": "stdout",
     "output_type": "stream",
     "text": [
      "A precisao foi de 80.33%\n"
     ]
    }
   ],
   "source": [
    "gnb = GaussianNB()\n",
    "\n",
    "gnb.fit(X_train,y_train)\n",
    "\n",
    "y_pred = gnb.predict(X_test)\n",
    "\n",
    "print(f\"A precisao foi de {accuracy_score(y_test, y_pred)*100:.2f}%\")"
   ]
  },
  {
   "cell_type": "code",
   "execution_count": 12,
   "id": "1ac575a0",
   "metadata": {},
   "outputs": [
    {
     "name": "stdout",
     "output_type": "stream",
     "text": [
      "A precisao do teste SVC eh de 80.33%\n"
     ]
    }
   ],
   "source": [
    "clf = SVC(kernel='linear', C=1, random_state = 0).fit(X_train,y_train)\n",
    "\n",
    "y_pred = clf.predict(X_test)\n",
    "\n",
    "print(f\"A precisao do teste SVC eh de {(accuracy_score(y_test,y_pred))*100:.2f}%\")"
   ]
  },
  {
   "cell_type": "code",
   "execution_count": 13,
   "id": "21504813",
   "metadata": {
    "scrolled": true
   },
   "outputs": [
    {
     "name": "stdout",
     "output_type": "stream",
     "text": [
      "O melhor parametro eh: {'C': 5, 'gamma': 0.0005}\n",
      "A melhor pontuacao foi de 67.39%:\n",
      "A precisao do teste depois de usar GridSearchCV foi de 68.85% \n"
     ]
    }
   ],
   "source": [
    "svm = SVC()\n",
    "\n",
    "parameters = {\"C\":np.arange(1,10,1),\"gamma\":[0.00001,0.00005, 0.0001,0.0005,\n",
    "                                             0.001,0.005,0.01,0.05,0.1,0.5,1,5]\n",
    "             }\n",
    "\n",
    "searcher = GridSearchCV(svm, parameters)\n",
    "\n",
    "searcher.fit(X_train, y_train)\n",
    "\n",
    "print(f\"O melhor parametro eh: {searcher.best_params_}\")\n",
    "print(f\"A melhor pontuacao foi de {searcher.best_score_*100:.2f}%:\")\n",
    "\n",
    "y_pred = searcher.predict(X_test)\n",
    "\n",
    "print(f\"A precisao do teste depois de usar GridSearchCV foi de {accuracy_score(y_test, y_pred)*100:.2f}% \")\n"
   ]
  },
  {
   "cell_type": "code",
   "execution_count": 14,
   "id": "c565b5c0",
   "metadata": {},
   "outputs": [
    {
     "name": "stdout",
     "output_type": "stream",
     "text": [
      "A precisao foi de 81.97%\n"
     ]
    }
   ],
   "source": [
    "logreg = LogisticRegression()\n",
    "\n",
    "logreg.fit(X_train, y_train)\n",
    "\n",
    "y_pred = logreg.predict(X_test)\n",
    "\n",
    "print(f\"A precisao foi de {accuracy_score(y_test, y_pred)*100:.2f}%\")"
   ]
  },
  {
   "cell_type": "code",
   "execution_count": 15,
   "id": "0b5c1075",
   "metadata": {},
   "outputs": [
    {
     "name": "stdout",
     "output_type": "stream",
     "text": [
      "A precisao foi de 75.41%\n"
     ]
    }
   ],
   "source": [
    "dt = DecisionTreeClassifier(random_state = 0)\n",
    "\n",
    "dt.fit(X_train, y_train)\n",
    "\n",
    "y_pred = dt.predict(X_test)\n",
    "\n",
    "print(f\"A precisao foi de {accuracy_score(y_test, y_pred)*100:.2f}%\")\n"
   ]
  },
  {
   "cell_type": "code",
   "execution_count": 16,
   "id": "9723f0c6",
   "metadata": {},
   "outputs": [
    {
     "name": "stdout",
     "output_type": "stream",
     "text": [
      "A precisao foi de 75.41%\n"
     ]
    }
   ],
   "source": [
    "rf = RandomForestClassifier()\n",
    "\n",
    "rf.fit(X_train, y_train)\n",
    "\n",
    "y_pred = dt.predict(X_test)\n",
    "\n",
    "print(f\"A precisao foi de {accuracy_score(y_test, y_pred)*100:.2f}%\")"
   ]
  },
  {
   "cell_type": "code",
   "execution_count": 17,
   "id": "fe2659b9",
   "metadata": {},
   "outputs": [
    {
     "name": "stdout",
     "output_type": "stream",
     "text": [
      "A precisao foi de 80.33%\n"
     ]
    }
   ],
   "source": [
    "gbt = GradientBoostingClassifier(n_estimators = 300,max_depth=1,subsample=0.8,max_features=0.2,random_state=0)\n",
    "\n",
    "gbt.fit(X_train,y_train)\n",
    "\n",
    "y_pred = gbt.predict(X_test)\n",
    "\n",
    "print(f\"A precisao foi de {accuracy_score(y_test, y_pred)*100:.2f}%\")"
   ]
  },
  {
   "cell_type": "code",
   "execution_count": 18,
   "id": "dd733f5b",
   "metadata": {},
   "outputs": [
    {
     "name": "stdout",
     "output_type": "stream",
     "text": [
      "A precisao foi de 81.97%\n"
     ]
    }
   ],
   "source": [
    "mlp = MLPClassifier(hidden_layer_sizes = (10,), solver = \"lbfgs\", random_state=0)\n",
    "\n",
    "mlp.fit(X_train,y_train)\n",
    "\n",
    "y_pred = mlp.predict(X_test)\n",
    "\n",
    "print(f\"A precisao foi de {accuracy_score(y_test, y_pred)*100:.2f}%\")"
   ]
  },
  {
   "cell_type": "markdown",
   "id": "05bf658a",
   "metadata": {},
   "source": [
    "## Testando o Modelo Escolhido"
   ]
  },
  {
   "cell_type": "code",
   "execution_count": 19,
   "id": "e805d97c",
   "metadata": {},
   "outputs": [],
   "source": [
    "def criaDummies(array):\n",
    "    newArr = array[:2] + array[3:]\n",
    "    if array[2]== 0:        \n",
    "        newArr += [1,0,0,0]\n",
    "    elif array[2]== 1:        \n",
    "        newArr += [0,1,0,0]\n",
    "    elif array[2]== 2:        \n",
    "        newArr += [0,0,1,0]                            \n",
    "    else:        \n",
    "        newArr += [0,0,0,1]                        \n",
    "    return newArr"
   ]
  },
  {
   "cell_type": "code",
   "execution_count": 20,
   "id": "b889ec56",
   "metadata": {},
   "outputs": [
    {
     "name": "stdout",
     "output_type": "stream",
     "text": [
      "1 [59, 1, 0, 110, 239, 0, 0, 142, 1, 0]\n",
      "2 [59, 1, 110, 239, 0, 0, 142, 1, 0, 1, 0, 0, 0]\n"
     ]
    }
   ],
   "source": [
    "input_array = [59,\"Man\",\"Typical Angina\",110,239,\"False\",\"Normal\",142, \"Yes\", 0]\n",
    "transdict = {\n",
    "    \"Asymptomatic\":3,\n",
    "    \"Atypical Angina\":1,\n",
    "    \"Non-anginal Pain\":2,\n",
    "    \"Typical Angina\":0,\n",
    "    \"Woman\":0,\n",
    "    \"Man\":1,\n",
    "    \"Yes\":1,\n",
    "    \"No\":0,\n",
    "    \"True\":1,\n",
    "    \"False\":0,\n",
    "    \"Having ST-T\":1,\n",
    "    \"Normal\":0,\n",
    "    \"Hypertrophy\":2,\n",
    "}\n",
    "new = [transdict.get(i, i) for i in input_array]\n",
    "print(\"1\",new)\n",
    "new = criaDummies(new)\n",
    "print(\"2\",new)\n",
    "new = np.asarray(new)"
   ]
  },
  {
   "cell_type": "code",
   "execution_count": 21,
   "id": "c112b667",
   "metadata": {},
   "outputs": [
    {
     "name": "stdout",
     "output_type": "stream",
     "text": [
      "[[ 59   1 110 239   0   0 142   1   0   1   0   0   0]]\n"
     ]
    }
   ],
   "source": [
    "reshaped_dummies = new.reshape(1,-1)\n",
    "print(reshaped_dummies)"
   ]
  },
  {
   "cell_type": "code",
   "execution_count": 22,
   "id": "13d2eac3",
   "metadata": {},
   "outputs": [
    {
     "name": "stdout",
     "output_type": "stream",
     "text": [
      "[0]\n",
      "The Person does not have a Heart Disease\n"
     ]
    }
   ],
   "source": [
    "prediction = mlp.predict(reshaped_dummies)\n",
    "print(prediction)\n",
    "\n",
    "if (prediction[0] == 0):\n",
    "    print(\"The Person does not have a Heart Disease\")\n",
    "else:\n",
    "    print('The Person has Heart Disease')"
   ]
  },
  {
   "cell_type": "code",
   "execution_count": 23,
   "id": "b094bcfc",
   "metadata": {},
   "outputs": [],
   "source": [
    "import pickle"
   ]
  },
  {
   "cell_type": "code",
   "execution_count": 24,
   "id": "326a0694",
   "metadata": {},
   "outputs": [],
   "source": [
    "dados = {\"model\":mlp, \"dict\":transdict}\n",
    "with open(\"saved_data.pkl\", \"wb\") as file:\n",
    "    pickle.dump(dados,file)\n",
    "    \n",
    "    "
   ]
  }
 ],
 "metadata": {
  "kernelspec": {
   "display_name": "ml",
   "language": "python",
   "name": "ml"
  },
  "language_info": {
   "codemirror_mode": {
    "name": "ipython",
    "version": 3
   },
   "file_extension": ".py",
   "mimetype": "text/x-python",
   "name": "python",
   "nbconvert_exporter": "python",
   "pygments_lexer": "ipython3",
   "version": "3.9.13"
  }
 },
 "nbformat": 4,
 "nbformat_minor": 5
}
